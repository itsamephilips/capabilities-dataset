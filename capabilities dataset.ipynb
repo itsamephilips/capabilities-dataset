{
 "cells": [
  {
   "cell_type": "code",
   "execution_count": 10,
   "id": "7dc408ea",
   "metadata": {},
   "outputs": [
    {
     "name": "stdout",
     "output_type": "stream",
     "text": [
      "Year:  2006 Militarized:  False\n",
      "Year:  2007 Militarized:  True\n",
      "Year:  2008 Militarized:  True\n",
      "Year:  2009 Militarized:  True\n",
      "Year:  2010 Militarized:  False\n",
      "Year:  2011 Militarized:  True\n",
      "Year:  2012 Militarized:  True\n",
      "Year:  2013 Militarized:  True\n",
      "Year:  2014 Militarized:  True\n",
      "Year:  2015 Militarized:  False\n",
      "Year:  2016 Militarized:  True\n"
     ]
    }
   ],
   "source": [
    "import pandas as pd\n",
    "import numpy as np\n",
    "import matplotlib.pyplot as plt\n",
    "from pathlib import Path\n",
    "import dmba\n",
    "\n",
    "\n",
    "file = pd.read_csv(\"NMC-60-abridged.csv\")\n",
    "for i in range(2006, 2017):\n",
    "    #calculate the year-total sum\n",
    "    st = file[file['year'] == i].sum()\n",
    "    #calculate the year-total sum\n",
    "    total_milex = st['milex']\n",
    "    total_milper = st['milper']\n",
    "    total_tpop = st['tpop']\n",
    "    total_upop = st['upop']\n",
    "    #read information about Finland between the years 2006-2016\n",
    "    test = file[(file['stateabb'] == 'FIN') & (file['year'] == i)]\n",
    "    #fetch the data for the specific year\n",
    "    milex = test.at[test.index.values[0], 'milex']\n",
    "    milper = test.at[test.index.values[0], 'milper']\n",
    "    tpop = test.at[test.index.values[0], 'tpop']\n",
    "    upop = test.at[test.index.values[0], 'tpop']\n",
    "    #calculate the system-wide scores\n",
    "    sys_milex = milex/total_milex\n",
    "    sys_milper = milper/total_milper\n",
    "    sys_tpop = tpop/total_tpop\n",
    "    sys_upop = upop/total_upop\n",
    "    #calculate total system-wide military capabilities and total population capabilities\n",
    "    sys_mil_cap = sys_milex + sys_milper\n",
    "    sys_pop_cap = sys_tpop + sys_upop\n",
    "    print('Year: ', i, 'Militarized: ',sys_mil_cap > sys_pop_cap)\n",
    "\n"
   ]
  },
  {
   "cell_type": "code",
   "execution_count": 8,
   "id": "f93d83b7",
   "metadata": {},
   "outputs": [
    {
     "name": "stdout",
     "output_type": "stream",
     "text": [
      "Year:  2006 Militarized:  False\n",
      "Year:  2007 Militarized:  False\n",
      "Year:  2008 Militarized:  False\n",
      "Year:  2009 Militarized:  False\n",
      "Year:  2010 Militarized:  False\n",
      "Year:  2011 Militarized:  False\n",
      "Year:  2012 Militarized:  False\n",
      "Year:  2013 Militarized:  False\n",
      "Year:  2014 Militarized:  True\n",
      "Year:  2015 Militarized:  False\n",
      "Year:  2016 Militarized:  False\n"
     ]
    }
   ],
   "source": [
    "for i in range(2006, 2017):\n",
    "    #calculate the year-total sum\n",
    "    st = file[file['year'] == i].sum()\n",
    "    total_milex = st['milex']\n",
    "    total_milper = st['milper']\n",
    "    total_tpop = st['tpop']\n",
    "    total_upop = st['upop']\n",
    "    #read information about sweden between the years 2006-2016\n",
    "    test = file[(file['stateabb'] == 'RUS') & (file['year'] == i)]\n",
    "    #fetch the data for the specific year\n",
    "    milex = test.at[test.index.values[0], 'milex']\n",
    "    milper = test.at[test.index.values[0], 'milper']\n",
    "    tpop = test.at[test.index.values[0], 'tpop']\n",
    "    upop = test.at[test.index.values[0], 'tpop']\n",
    "    #calculate the system-wide scores\n",
    "    sys_milex = milex/total_milex\n",
    "    sys_milper = milper/total_milper\n",
    "    sys_tpop = tpop/total_tpop\n",
    "    sys_upop = upop/total_upop\n",
    "    #calculate total system-wide military capabilities and total population capabilities\n",
    "    sys_mil_cap = sys_milex + sys_milper\n",
    "    sys_pop_cap = sys_tpop + sys_upop\n",
    "    print('Year: ', i, 'Militarized: ',sys_mil_cap > sys_pop_cap)"
   ]
  },
  {
   "cell_type": "code",
   "execution_count": 9,
   "id": "09b0a3bb",
   "metadata": {},
   "outputs": [
    {
     "name": "stdout",
     "output_type": "stream",
     "text": [
      "Year:  2006 True\n",
      "Year:  2007 True\n",
      "Year:  2008 False\n",
      "Year:  2009 False\n",
      "Year:  2010 False\n",
      "Year:  2011 False\n",
      "Year:  2012 False\n",
      "Year:  2013 False\n",
      "Year:  2014 False\n",
      "Year:  2015 False\n",
      "Year:  2016 False\n"
     ]
    }
   ],
   "source": [
    "for i in range(2006, 2017):\n",
    "    #calculate the year-total \n",
    "    st = file[file['year'] == i].sum()\n",
    "    total_milex = st['milex']\n",
    "    total_milper = st['milper']\n",
    "    total_tpop = st['tpop']\n",
    "    total_upop = st['upop']\n",
    "    #read information about sweden between the years 2006-2016\n",
    "    test = file[(file['stateabb'] == 'SWD') & (file['year'] == i)]\n",
    "    #fetch the data for the specific year\n",
    "    milex = test.at[test.index.values[0], 'milex']\n",
    "    milper = test.at[test.index.values[0], 'milper']\n",
    "    tpop = test.at[test.index.values[0], 'tpop']\n",
    "    upop = test.at[test.index.values[0], 'tpop']\n",
    "    #calculate the system-wide scores\n",
    "    sys_milex = milex/total_milex\n",
    "    sys_milper = milper/total_milper\n",
    "    sys_tpop = tpop/total_tpop\n",
    "    sys_upop = upop/total_upop\n",
    "    #calculate total system-wide military capabilities and total population capabilities\n",
    "    sys_mil_cap = sys_milex + sys_milper\n",
    "    sys_pop_cap = sys_tpop + sys_upop\n",
    "    print('Year: ', i, sys_mil_cap > sys_pop_cap)"
   ]
  },
  {
   "cell_type": "code",
   "execution_count": null,
   "id": "00179888",
   "metadata": {},
   "outputs": [],
   "source": []
  }
 ],
 "metadata": {
  "kernelspec": {
   "display_name": "Python 3",
   "language": "python",
   "name": "python3"
  },
  "language_info": {
   "codemirror_mode": {
    "name": "ipython",
    "version": 3
   },
   "file_extension": ".py",
   "mimetype": "text/x-python",
   "name": "python",
   "nbconvert_exporter": "python",
   "pygments_lexer": "ipython3",
   "version": "3.8.8"
  }
 },
 "nbformat": 4,
 "nbformat_minor": 5
}
